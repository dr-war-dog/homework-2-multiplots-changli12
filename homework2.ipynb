{
 "cells": [
  {
   "cell_type": "markdown",
   "metadata": {},
   "source": [
    "# Homework 2"
   ]
  },
  {
   "cell_type": "markdown",
   "metadata": {},
   "source": [
    "#### 1.How many people have been killed?"
   ]
  },
  {
   "cell_type": "code",
   "execution_count": 1,
   "metadata": {},
   "outputs": [
    {
     "name": "stdout",
     "output_type": "stream",
     "text": [
      "There were 66 people injured.\n"
     ]
    },
    {
     "name": "stderr",
     "output_type": "stream",
     "text": [
      "D:\\anaconda\\lib\\site-packages\\ipykernel_launcher.py:7: FutureWarning: from_csv is deprecated. Please use read_csv(...) instead. Note that some of the default arguments are different, so please refer to the documentation for from_csv when changing your function calls\n",
      "  import sys\n"
     ]
    },
    {
     "data": {
      "image/png": "[encoded data removed]",
      "text/plain": [
       "<Figure size 432x288 with 1 Axes>"
      ]
     },
     "metadata": {},
     "output_type": "display_data"
    }
   ],
   "source": [
    "%matplotlib inline\n",
    "import matplotlib.pyplot as plt\n",
    "import csv\n",
    "import pandas as pd\n",
    "import numpy as np\n",
    "\n",
    "df = pd.DataFrame.from_csv(\"data/gun-violence.csv\")\n",
    "print(\"There were \"+str(df['n_injured'].sum())+\" people injured.\")\n",
    "plt.plot(df['n_injured'])\n",
    "plt.show()"
   ]
  },
  {
   "cell_type": "markdown",
   "metadata": {},
   "source": [
    "#### 2.How many people have been injured?"
   ]
  },
  {
   "cell_type": "code",
   "execution_count": 2,
   "metadata": {},
   "outputs": [
    {
     "name": "stdout",
     "output_type": "stream",
     "text": [
      "There were 28 people killed.\n"
     ]
    },
    {
     "data": {
      "image/png": "[encoded data removed]",
      "text/plain": [
       "<Figure size 432x288 with 1 Axes>"
      ]
     },
     "metadata": {},
     "output_type": "display_data"
    }
   ],
   "source": [
    "print(\"There were \"+str(df['n_killed'].sum())+\" people killed.\")\n",
    "plt.plot(df['n_killed'])\n",
    "plt.show()"
   ]
  },
  {
   "cell_type": "markdown",
   "metadata": {},
   "source": [
    "#### 3.How many people were injured between January 1st, 2013 - Feburary 1st 2013?"
   ]
  },
  {
   "cell_type": "code",
   "execution_count": 3,
   "metadata": {},
   "outputs": [
    {
     "name": "stdout",
     "output_type": "stream",
     "text": [
      "There are 34 people injured between January 1st, 2013 - Feburary 1st 2013.\n"
     ]
    }
   ],
   "source": [
    "count = 0\n",
    "for index, row in df.iterrows():\n",
    "    if row['date'] > '2013-01-01' and row['date'] < '2013-02-01':\n",
    "        count += row['n_injured']\n",
    "\n",
    "print(\"There are \"+str(count)+\" people injured between January 1st, 2013 - Feburary 1st 2013.\")"
   ]
  },
  {
   "cell_type": "markdown",
   "metadata": {},
   "source": [
    "#### 4.What percentage of congressional districts were involved in the gun violence data?"
   ]
  },
  {
   "cell_type": "code",
   "execution_count": 4,
   "metadata": {},
   "outputs": [
    {
     "name": "stdout",
     "output_type": "stream",
     "text": [
      "28.676470588235293% percent of congressional districts were involved in the gun violence data\n"
     ]
    }
   ],
   "source": [
    "count = 0\n",
    "countcd=0\n",
    "for index, row in df.iterrows():\n",
    "    countcd+=row['congressional_district']\n",
    "    if not np.isnan(row['n_guns_involved']) :\n",
    "        count +=row['congressional_district']\n",
    "\n",
    "print(str((count/countcd)*100)+\"% percent of congressional districts were involved in the gun violence data\")"
   ]
  },
  {
   "cell_type": "markdown",
   "metadata": {},
   "source": [
    "#### 5.Where we the locations of the top 10 highest number of injuries?"
   ]
  },
  {
   "cell_type": "code",
   "execution_count": 5,
   "metadata": {},
   "outputs": [
    {
     "name": "stdout",
     "output_type": "stream",
     "text": [
      "The locations of the top 10 highest number of injuries are:\n",
      "1500 block of W. Fayette St.\n",
      "2514 Mount Moriah\n",
      "LaSalle Street and Martin Luther King Jr. Boulevard\n",
      "2403 Benning Road Northeast\n",
      "1506 Versailles Avenue and Coursin Street\n",
      "800 block of Humboldt Street\n",
      "400 block of Bourbon Street\n",
      "2500 block of East 75th Street\n",
      "1100 block of Breton Drive\n",
      "1000 block of Flat Town Road\n"
     ]
    }
   ],
   "source": [
    "df2=df.sort_values(by='n_injured', ascending=False)\n",
    "count=0\n",
    "print(\"The locations of the top 10 highest number of injuries are:\")\n",
    "for index, row in df2.iterrows():\n",
    "    count += 1\n",
    "    if count <= 10:\n",
    "        print(row['address'])"
   ]
  }
 ],
 "metadata": {
  "kernelspec": {
   "display_name": "Python 3",
   "language": "python",
   "name": "python3"
  },
  "language_info": {
   "codemirror_mode": {
    "name": "ipython",
    "version": 3
   },
   "file_extension": ".py",
   "mimetype": "text/x-python",
   "name": "python",
   "nbconvert_exporter": "python",
   "pygments_lexer": "ipython3",
   "version": "3.6.5"
  }
 },
 "nbformat": 4,
 "nbformat_minor": 2
}
